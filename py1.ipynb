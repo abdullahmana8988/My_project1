{
 "cells": [
  {
   "cell_type": "markdown",
   "id": "45bed7c8-764c-4993-b29e-8f7924222309",
   "metadata": {},
   "source": [
    "# "
   ]
  },
  {
   "cell_type": "code",
   "execution_count": 23,
   "id": "4927a878-284b-4bc9-a4d5-913ac02658c1",
   "metadata": {},
   "outputs": [],
   "source": [
    "import pandas as pd"
   ]
  },
  {
   "cell_type": "code",
   "execution_count": 25,
   "id": "70708a02-22ee-478c-8613-158d41acbadc",
   "metadata": {},
   "outputs": [],
   "source": [
    "import numpy as np "
   ]
  },
  {
   "cell_type": "code",
   "execution_count": 19,
   "id": "8c63fb65-86d2-4540-b4f5-c005a2429ef3",
   "metadata": {},
   "outputs": [],
   "source": [
    "mylist =[1,2,'A','b']"
   ]
  },
  {
   "cell_type": "code",
   "execution_count": 21,
   "id": "e83bdb84-5b4e-4451-9f3a-14f5ff886fea",
   "metadata": {},
   "outputs": [
    {
     "data": {
      "text/plain": [
       "'A'"
      ]
     },
     "execution_count": 21,
     "metadata": {},
     "output_type": "execute_result"
    }
   ],
   "source": [
    "mylist[2]"
   ]
  },
  {
   "cell_type": "code",
   "execution_count": 31,
   "id": "dcb9fcb9-e7ee-435f-bc06-b8c6513ba250",
   "metadata": {
    "scrolled": true
   },
   "outputs": [
    {
     "data": {
      "text/html": [
       "<div>\n",
       "<style scoped>\n",
       "    .dataframe tbody tr th:only-of-type {\n",
       "        vertical-align: middle;\n",
       "    }\n",
       "\n",
       "    .dataframe tbody tr th {\n",
       "        vertical-align: top;\n",
       "    }\n",
       "\n",
       "    .dataframe thead th {\n",
       "        text-align: right;\n",
       "    }\n",
       "</style>\n",
       "<table border=\"1\" class=\"dataframe\">\n",
       "  <thead>\n",
       "    <tr style=\"text-align: right;\">\n",
       "      <th></th>\n",
       "      <th>ID</th>\n",
       "      <th>Name</th>\n",
       "      <th>Age</th>\n",
       "      <th>Department</th>\n",
       "      <th>Salary</th>\n",
       "      <th>Join_Date</th>\n",
       "    </tr>\n",
       "  </thead>\n",
       "  <tbody>\n",
       "    <tr>\n",
       "      <th>0</th>\n",
       "      <td>1</td>\n",
       "      <td>Ahmed</td>\n",
       "      <td>25</td>\n",
       "      <td>IT</td>\n",
       "      <td>7000</td>\n",
       "      <td>2020-06-15</td>\n",
       "    </tr>\n",
       "    <tr>\n",
       "      <th>1</th>\n",
       "      <td>2</td>\n",
       "      <td>Sara</td>\n",
       "      <td>30</td>\n",
       "      <td>HR</td>\n",
       "      <td>8500</td>\n",
       "      <td>2019-08-22</td>\n",
       "    </tr>\n",
       "    <tr>\n",
       "      <th>2</th>\n",
       "      <td>3</td>\n",
       "      <td>Khalid</td>\n",
       "      <td>28</td>\n",
       "      <td>Finance</td>\n",
       "      <td>9000</td>\n",
       "      <td>2018-11-01</td>\n",
       "    </tr>\n",
       "    <tr>\n",
       "      <th>3</th>\n",
       "      <td>4</td>\n",
       "      <td>Laila</td>\n",
       "      <td>22</td>\n",
       "      <td>Marketing</td>\n",
       "      <td>6500</td>\n",
       "      <td>2021-02-10</td>\n",
       "    </tr>\n",
       "    <tr>\n",
       "      <th>4</th>\n",
       "      <td>5</td>\n",
       "      <td>Omar</td>\n",
       "      <td>35</td>\n",
       "      <td>IT</td>\n",
       "      <td>7200</td>\n",
       "      <td>2017-05-30</td>\n",
       "    </tr>\n",
       "  </tbody>\n",
       "</table>\n",
       "</div>"
      ],
      "text/plain": [
       "   ID    Name  Age Department  Salary   Join_Date\n",
       "0   1   Ahmed   25         IT    7000  2020-06-15\n",
       "1   2    Sara   30         HR    8500  2019-08-22\n",
       "2   3  Khalid   28    Finance    9000  2018-11-01\n",
       "3   4   Laila   22  Marketing    6500  2021-02-10\n",
       "4   5    Omar   35         IT    7200  2017-05-30"
      ]
     },
     "execution_count": 31,
     "metadata": {},
     "output_type": "execute_result"
    }
   ],
   "source": [
    "pd.read_csv(r\"C:\\Users\\mealr\\OneDrive\\سطح المكتب\\ab\\A1.csv\")"
   ]
  },
  {
   "cell_type": "code",
   "execution_count": 33,
   "id": "59e646f6-8c23-4d37-9fef-9de7a903240f",
   "metadata": {
    "scrolled": true
   },
   "outputs": [
    {
     "data": {
      "text/html": [
       "<div>\n",
       "<style scoped>\n",
       "    .dataframe tbody tr th:only-of-type {\n",
       "        vertical-align: middle;\n",
       "    }\n",
       "\n",
       "    .dataframe tbody tr th {\n",
       "        vertical-align: top;\n",
       "    }\n",
       "\n",
       "    .dataframe thead th {\n",
       "        text-align: right;\n",
       "    }\n",
       "</style>\n",
       "<table border=\"1\" class=\"dataframe\">\n",
       "  <thead>\n",
       "    <tr style=\"text-align: right;\">\n",
       "      <th></th>\n",
       "      <th>Order ID</th>\n",
       "      <th>Date</th>\n",
       "      <th>Product</th>\n",
       "      <th>Category</th>\n",
       "      <th>Quantity</th>\n",
       "      <th>Price</th>\n",
       "      <th>Total Sales</th>\n",
       "    </tr>\n",
       "  </thead>\n",
       "  <tbody>\n",
       "    <tr>\n",
       "      <th>0</th>\n",
       "      <td>101</td>\n",
       "      <td>2024-01-01</td>\n",
       "      <td>Laptop</td>\n",
       "      <td>Electronics</td>\n",
       "      <td>1</td>\n",
       "      <td>1200</td>\n",
       "      <td>1200</td>\n",
       "    </tr>\n",
       "    <tr>\n",
       "      <th>1</th>\n",
       "      <td>102</td>\n",
       "      <td>2024-01-02</td>\n",
       "      <td>Mouse</td>\n",
       "      <td>Accessories</td>\n",
       "      <td>3</td>\n",
       "      <td>25</td>\n",
       "      <td>75</td>\n",
       "    </tr>\n",
       "    <tr>\n",
       "      <th>2</th>\n",
       "      <td>103</td>\n",
       "      <td>2024-01-03</td>\n",
       "      <td>Keyboard</td>\n",
       "      <td>Accessories</td>\n",
       "      <td>2</td>\n",
       "      <td>45</td>\n",
       "      <td>90</td>\n",
       "    </tr>\n",
       "    <tr>\n",
       "      <th>3</th>\n",
       "      <td>104</td>\n",
       "      <td>2024-01-04</td>\n",
       "      <td>Monitor</td>\n",
       "      <td>Electronics</td>\n",
       "      <td>1</td>\n",
       "      <td>300</td>\n",
       "      <td>300</td>\n",
       "    </tr>\n",
       "    <tr>\n",
       "      <th>4</th>\n",
       "      <td>105</td>\n",
       "      <td>2024-01-05</td>\n",
       "      <td>Tablet</td>\n",
       "      <td>Electronics</td>\n",
       "      <td>4</td>\n",
       "      <td>250</td>\n",
       "      <td>1000</td>\n",
       "    </tr>\n",
       "    <tr>\n",
       "      <th>5</th>\n",
       "      <td>106</td>\n",
       "      <td>2024-01-06</td>\n",
       "      <td>Smartphone</td>\n",
       "      <td>Electronics</td>\n",
       "      <td>2</td>\n",
       "      <td>800</td>\n",
       "      <td>1600</td>\n",
       "    </tr>\n",
       "    <tr>\n",
       "      <th>6</th>\n",
       "      <td>107</td>\n",
       "      <td>2024-01-07</td>\n",
       "      <td>Headphones</td>\n",
       "      <td>Accessories</td>\n",
       "      <td>5</td>\n",
       "      <td>60</td>\n",
       "      <td>300</td>\n",
       "    </tr>\n",
       "    <tr>\n",
       "      <th>7</th>\n",
       "      <td>108</td>\n",
       "      <td>2024-01-08</td>\n",
       "      <td>Printer</td>\n",
       "      <td>Electronics</td>\n",
       "      <td>1</td>\n",
       "      <td>150</td>\n",
       "      <td>150</td>\n",
       "    </tr>\n",
       "    <tr>\n",
       "      <th>8</th>\n",
       "      <td>109</td>\n",
       "      <td>2024-01-09</td>\n",
       "      <td>Router</td>\n",
       "      <td>Networking</td>\n",
       "      <td>3</td>\n",
       "      <td>80</td>\n",
       "      <td>240</td>\n",
       "    </tr>\n",
       "    <tr>\n",
       "      <th>9</th>\n",
       "      <td>110</td>\n",
       "      <td>2024-01-10</td>\n",
       "      <td>Webcam</td>\n",
       "      <td>Accessories</td>\n",
       "      <td>2</td>\n",
       "      <td>50</td>\n",
       "      <td>100</td>\n",
       "    </tr>\n",
       "  </tbody>\n",
       "</table>\n",
       "</div>"
      ],
      "text/plain": [
       "   Order ID       Date     Product     Category  Quantity  Price  Total Sales\n",
       "0       101 2024-01-01      Laptop  Electronics         1   1200         1200\n",
       "1       102 2024-01-02       Mouse  Accessories         3     25           75\n",
       "2       103 2024-01-03    Keyboard  Accessories         2     45           90\n",
       "3       104 2024-01-04     Monitor  Electronics         1    300          300\n",
       "4       105 2024-01-05      Tablet  Electronics         4    250         1000\n",
       "5       106 2024-01-06  Smartphone  Electronics         2    800         1600\n",
       "6       107 2024-01-07  Headphones  Accessories         5     60          300\n",
       "7       108 2024-01-08     Printer  Electronics         1    150          150\n",
       "8       109 2024-01-09      Router   Networking         3     80          240\n",
       "9       110 2024-01-10      Webcam  Accessories         2     50          100"
      ]
     },
     "execution_count": 33,
     "metadata": {},
     "output_type": "execute_result"
    }
   ],
   "source": [
    "pd.read_excel(r\"C:\\Users\\mealr\\OneDrive\\سطح المكتب\\ab\\sales_data.xlsx\""
   ]
  },
  {
   "cell_type": "code",
   "execution_count": 43,
   "id": "f2d132fb-bf4e-4977-8a9f-6bc629225bda",
   "metadata": {},
   "outputs": [
    {
     "data": {
      "text/html": [
       "<div>\n",
       "<style scoped>\n",
       "    .dataframe tbody tr th:only-of-type {\n",
       "        vertical-align: middle;\n",
       "    }\n",
       "\n",
       "    .dataframe tbody tr th {\n",
       "        vertical-align: top;\n",
       "    }\n",
       "\n",
       "    .dataframe thead th {\n",
       "        text-align: right;\n",
       "    }\n",
       "</style>\n",
       "<table border=\"1\" class=\"dataframe\">\n",
       "  <thead>\n",
       "    <tr style=\"text-align: right;\">\n",
       "      <th></th>\n",
       "      <th>ID</th>\n",
       "      <th>Name</th>\n",
       "      <th>Age</th>\n",
       "      <th>Department</th>\n",
       "      <th>Salary</th>\n",
       "      <th>Join_Date</th>\n",
       "    </tr>\n",
       "  </thead>\n",
       "  <tbody>\n",
       "    <tr>\n",
       "      <th>0</th>\n",
       "      <td>1</td>\n",
       "      <td>Ahmed</td>\n",
       "      <td>25</td>\n",
       "      <td>IT</td>\n",
       "      <td>7000</td>\n",
       "      <td>2020-06-15</td>\n",
       "    </tr>\n",
       "    <tr>\n",
       "      <th>1</th>\n",
       "      <td>2</td>\n",
       "      <td>Sara</td>\n",
       "      <td>30</td>\n",
       "      <td>HR</td>\n",
       "      <td>8500</td>\n",
       "      <td>2019-08-22</td>\n",
       "    </tr>\n",
       "    <tr>\n",
       "      <th>2</th>\n",
       "      <td>3</td>\n",
       "      <td>Khalid</td>\n",
       "      <td>28</td>\n",
       "      <td>Finance</td>\n",
       "      <td>9000</td>\n",
       "      <td>2018-11-01</td>\n",
       "    </tr>\n",
       "    <tr>\n",
       "      <th>3</th>\n",
       "      <td>4</td>\n",
       "      <td>Laila</td>\n",
       "      <td>22</td>\n",
       "      <td>Marketing</td>\n",
       "      <td>6500</td>\n",
       "      <td>2021-02-10</td>\n",
       "    </tr>\n",
       "    <tr>\n",
       "      <th>4</th>\n",
       "      <td>5</td>\n",
       "      <td>Omar</td>\n",
       "      <td>35</td>\n",
       "      <td>IT</td>\n",
       "      <td>7200</td>\n",
       "      <td>2017-05-30</td>\n",
       "    </tr>\n",
       "  </tbody>\n",
       "</table>\n",
       "</div>"
      ],
      "text/plain": [
       "   ID    Name  Age Department  Salary   Join_Date\n",
       "0   1   Ahmed   25         IT    7000  2020-06-15\n",
       "1   2    Sara   30         HR    8500  2019-08-22\n",
       "2   3  Khalid   28    Finance    9000  2018-11-01\n",
       "3   4   Laila   22  Marketing    6500  2021-02-10\n",
       "4   5    Omar   35         IT    7200  2017-05-30"
      ]
     },
     "execution_count": 43,
     "metadata": {},
     "output_type": "execute_result"
    }
   ],
   "source": [
    "df = pd.read_csv(r\"C:\\Users\\mealr\\OneDrive\\سطح المكتب\\ab\\A1.csv\")\n",
    "df"
   ]
  },
  {
   "cell_type": "code",
   "execution_count": 47,
   "id": "e91a88d9-7a0f-48ee-b154-86724d6499b4",
   "metadata": {},
   "outputs": [
    {
     "data": {
      "text/html": [
       "<div>\n",
       "<style scoped>\n",
       "    .dataframe tbody tr th:only-of-type {\n",
       "        vertical-align: middle;\n",
       "    }\n",
       "\n",
       "    .dataframe tbody tr th {\n",
       "        vertical-align: top;\n",
       "    }\n",
       "\n",
       "    .dataframe thead th {\n",
       "        text-align: right;\n",
       "    }\n",
       "</style>\n",
       "<table border=\"1\" class=\"dataframe\">\n",
       "  <thead>\n",
       "    <tr style=\"text-align: right;\">\n",
       "      <th></th>\n",
       "      <th>ID</th>\n",
       "      <th>Name</th>\n",
       "      <th>Age</th>\n",
       "      <th>Department</th>\n",
       "      <th>Salary</th>\n",
       "      <th>Join_Date</th>\n",
       "    </tr>\n",
       "  </thead>\n",
       "  <tbody>\n",
       "    <tr>\n",
       "      <th>0</th>\n",
       "      <td>1</td>\n",
       "      <td>Ahmed</td>\n",
       "      <td>25</td>\n",
       "      <td>IT</td>\n",
       "      <td>7000</td>\n",
       "      <td>2020-06-15</td>\n",
       "    </tr>\n",
       "    <tr>\n",
       "      <th>1</th>\n",
       "      <td>2</td>\n",
       "      <td>Sara</td>\n",
       "      <td>30</td>\n",
       "      <td>HR</td>\n",
       "      <td>8500</td>\n",
       "      <td>2019-08-22</td>\n",
       "    </tr>\n",
       "    <tr>\n",
       "      <th>2</th>\n",
       "      <td>3</td>\n",
       "      <td>Khalid</td>\n",
       "      <td>28</td>\n",
       "      <td>Finance</td>\n",
       "      <td>9000</td>\n",
       "      <td>2018-11-01</td>\n",
       "    </tr>\n",
       "    <tr>\n",
       "      <th>3</th>\n",
       "      <td>4</td>\n",
       "      <td>Laila</td>\n",
       "      <td>22</td>\n",
       "      <td>Marketing</td>\n",
       "      <td>6500</td>\n",
       "      <td>2021-02-10</td>\n",
       "    </tr>\n",
       "    <tr>\n",
       "      <th>4</th>\n",
       "      <td>5</td>\n",
       "      <td>Omar</td>\n",
       "      <td>35</td>\n",
       "      <td>IT</td>\n",
       "      <td>7200</td>\n",
       "      <td>2017-05-30</td>\n",
       "    </tr>\n",
       "  </tbody>\n",
       "</table>\n",
       "</div>"
      ],
      "text/plain": [
       "   ID    Name  Age Department  Salary   Join_Date\n",
       "0   1   Ahmed   25         IT    7000  2020-06-15\n",
       "1   2    Sara   30         HR    8500  2019-08-22\n",
       "2   3  Khalid   28    Finance    9000  2018-11-01\n",
       "3   4   Laila   22  Marketing    6500  2021-02-10\n",
       "4   5    Omar   35         IT    7200  2017-05-30"
      ]
     },
     "execution_count": 47,
     "metadata": {},
     "output_type": "execute_result"
    }
   ],
   "source": [
    "df.head()"
   ]
  },
  {
   "cell_type": "code",
   "execution_count": 49,
   "id": "df4ab56b-f7ab-4299-8810-50fd427c0b71",
   "metadata": {},
   "outputs": [
    {
     "data": {
      "text/html": [
       "<div>\n",
       "<style scoped>\n",
       "    .dataframe tbody tr th:only-of-type {\n",
       "        vertical-align: middle;\n",
       "    }\n",
       "\n",
       "    .dataframe tbody tr th {\n",
       "        vertical-align: top;\n",
       "    }\n",
       "\n",
       "    .dataframe thead th {\n",
       "        text-align: right;\n",
       "    }\n",
       "</style>\n",
       "<table border=\"1\" class=\"dataframe\">\n",
       "  <thead>\n",
       "    <tr style=\"text-align: right;\">\n",
       "      <th></th>\n",
       "      <th>ID</th>\n",
       "      <th>Name</th>\n",
       "      <th>Age</th>\n",
       "      <th>Department</th>\n",
       "      <th>Salary</th>\n",
       "      <th>Join_Date</th>\n",
       "    </tr>\n",
       "  </thead>\n",
       "  <tbody>\n",
       "    <tr>\n",
       "      <th>0</th>\n",
       "      <td>1</td>\n",
       "      <td>Ahmed</td>\n",
       "      <td>25</td>\n",
       "      <td>IT</td>\n",
       "      <td>7000</td>\n",
       "      <td>2020-06-15</td>\n",
       "    </tr>\n",
       "    <tr>\n",
       "      <th>1</th>\n",
       "      <td>2</td>\n",
       "      <td>Sara</td>\n",
       "      <td>30</td>\n",
       "      <td>HR</td>\n",
       "      <td>8500</td>\n",
       "      <td>2019-08-22</td>\n",
       "    </tr>\n",
       "    <tr>\n",
       "      <th>2</th>\n",
       "      <td>3</td>\n",
       "      <td>Khalid</td>\n",
       "      <td>28</td>\n",
       "      <td>Finance</td>\n",
       "      <td>9000</td>\n",
       "      <td>2018-11-01</td>\n",
       "    </tr>\n",
       "    <tr>\n",
       "      <th>3</th>\n",
       "      <td>4</td>\n",
       "      <td>Laila</td>\n",
       "      <td>22</td>\n",
       "      <td>Marketing</td>\n",
       "      <td>6500</td>\n",
       "      <td>2021-02-10</td>\n",
       "    </tr>\n",
       "    <tr>\n",
       "      <th>4</th>\n",
       "      <td>5</td>\n",
       "      <td>Omar</td>\n",
       "      <td>35</td>\n",
       "      <td>IT</td>\n",
       "      <td>7200</td>\n",
       "      <td>2017-05-30</td>\n",
       "    </tr>\n",
       "  </tbody>\n",
       "</table>\n",
       "</div>"
      ],
      "text/plain": [
       "   ID    Name  Age Department  Salary   Join_Date\n",
       "0   1   Ahmed   25         IT    7000  2020-06-15\n",
       "1   2    Sara   30         HR    8500  2019-08-22\n",
       "2   3  Khalid   28    Finance    9000  2018-11-01\n",
       "3   4   Laila   22  Marketing    6500  2021-02-10\n",
       "4   5    Omar   35         IT    7200  2017-05-30"
      ]
     },
     "execution_count": 49,
     "metadata": {},
     "output_type": "execute_result"
    }
   ],
   "source": [
    "df.tail()"
   ]
  },
  {
   "cell_type": "code",
   "execution_count": 65,
   "id": "f987bec4-868b-4f9c-abb4-02b41de08aa0",
   "metadata": {},
   "outputs": [],
   "source": [
    "df1=df[\"Name\"]"
   ]
  },
  {
   "cell_type": "code",
   "execution_count": 63,
   "id": "b6f33fdb-7dac-459a-9109-011ee664c602",
   "metadata": {},
   "outputs": [
    {
     "data": {
      "text/plain": [
       "pandas.core.series.Series"
      ]
     },
     "execution_count": 63,
     "metadata": {},
     "output_type": "execute_result"
    }
   ],
   "source": [
    "type(df[\"Name\"])"
   ]
  },
  {
   "cell_type": "code",
   "execution_count": 67,
   "id": "ab636e09-c2ff-4a81-b36a-40f04ec33d4e",
   "metadata": {},
   "outputs": [
    {
     "data": {
      "text/plain": [
       "0     Ahmed\n",
       "1      Sara\n",
       "2    Khalid\n",
       "3     Laila\n",
       "4      Omar\n",
       "Name: Name, dtype: object"
      ]
     },
     "execution_count": 67,
     "metadata": {},
     "output_type": "execute_result"
    }
   ],
   "source": [
    "df1"
   ]
  },
  {
   "cell_type": "code",
   "execution_count": 69,
   "id": "05496a8b-64c7-42bd-945a-248e5c010d89",
   "metadata": {},
   "outputs": [
    {
     "data": {
      "text/html": [
       "<div>\n",
       "<style scoped>\n",
       "    .dataframe tbody tr th:only-of-type {\n",
       "        vertical-align: middle;\n",
       "    }\n",
       "\n",
       "    .dataframe tbody tr th {\n",
       "        vertical-align: top;\n",
       "    }\n",
       "\n",
       "    .dataframe thead th {\n",
       "        text-align: right;\n",
       "    }\n",
       "</style>\n",
       "<table border=\"1\" class=\"dataframe\">\n",
       "  <thead>\n",
       "    <tr style=\"text-align: right;\">\n",
       "      <th></th>\n",
       "      <th>ID</th>\n",
       "      <th>Age</th>\n",
       "      <th>Salary</th>\n",
       "    </tr>\n",
       "  </thead>\n",
       "  <tbody>\n",
       "    <tr>\n",
       "      <th>count</th>\n",
       "      <td>5.000000</td>\n",
       "      <td>5.000000</td>\n",
       "      <td>5.000000</td>\n",
       "    </tr>\n",
       "    <tr>\n",
       "      <th>mean</th>\n",
       "      <td>3.000000</td>\n",
       "      <td>28.000000</td>\n",
       "      <td>7640.000000</td>\n",
       "    </tr>\n",
       "    <tr>\n",
       "      <th>std</th>\n",
       "      <td>1.581139</td>\n",
       "      <td>4.949747</td>\n",
       "      <td>1059.716943</td>\n",
       "    </tr>\n",
       "    <tr>\n",
       "      <th>min</th>\n",
       "      <td>1.000000</td>\n",
       "      <td>22.000000</td>\n",
       "      <td>6500.000000</td>\n",
       "    </tr>\n",
       "    <tr>\n",
       "      <th>25%</th>\n",
       "      <td>2.000000</td>\n",
       "      <td>25.000000</td>\n",
       "      <td>7000.000000</td>\n",
       "    </tr>\n",
       "    <tr>\n",
       "      <th>50%</th>\n",
       "      <td>3.000000</td>\n",
       "      <td>28.000000</td>\n",
       "      <td>7200.000000</td>\n",
       "    </tr>\n",
       "    <tr>\n",
       "      <th>75%</th>\n",
       "      <td>4.000000</td>\n",
       "      <td>30.000000</td>\n",
       "      <td>8500.000000</td>\n",
       "    </tr>\n",
       "    <tr>\n",
       "      <th>max</th>\n",
       "      <td>5.000000</td>\n",
       "      <td>35.000000</td>\n",
       "      <td>9000.000000</td>\n",
       "    </tr>\n",
       "  </tbody>\n",
       "</table>\n",
       "</div>"
      ],
      "text/plain": [
       "             ID        Age       Salary\n",
       "count  5.000000   5.000000     5.000000\n",
       "mean   3.000000  28.000000  7640.000000\n",
       "std    1.581139   4.949747  1059.716943\n",
       "min    1.000000  22.000000  6500.000000\n",
       "25%    2.000000  25.000000  7000.000000\n",
       "50%    3.000000  28.000000  7200.000000\n",
       "75%    4.000000  30.000000  8500.000000\n",
       "max    5.000000  35.000000  9000.000000"
      ]
     },
     "execution_count": 69,
     "metadata": {},
     "output_type": "execute_result"
    }
   ],
   "source": [
    "df.describe()"
   ]
  },
  {
   "cell_type": "code",
   "execution_count": 71,
   "id": "226384d1-6598-4ef1-a031-35dfe4116f2a",
   "metadata": {},
   "outputs": [
    {
     "data": {
      "text/plain": [
       "<bound method NDFrame.describe of 0     Ahmed\n",
       "1      Sara\n",
       "2    Khalid\n",
       "3     Laila\n",
       "4      Omar\n",
       "Name: Name, dtype: object>"
      ]
     },
     "execution_count": 71,
     "metadata": {},
     "output_type": "execute_result"
    }
   ],
   "source": [
    "df['Name'].describe"
   ]
  },
  {
   "cell_type": "code",
   "execution_count": 79,
   "id": "19e4ef38-b578-42b8-8692-388a55dc6bc7",
   "metadata": {},
   "outputs": [
    {
     "name": "stdout",
     "output_type": "stream",
     "text": [
      "<class 'pandas.core.frame.DataFrame'>\n",
      "RangeIndex: 5 entries, 0 to 4\n",
      "Data columns (total 6 columns):\n",
      " #   Column      Non-Null Count  Dtype \n",
      "---  ------      --------------  ----- \n",
      " 0   ID          5 non-null      int64 \n",
      " 1   Name        5 non-null      object\n",
      " 2   Age         5 non-null      int64 \n",
      " 3   Department  5 non-null      object\n",
      " 4   Salary      5 non-null      int64 \n",
      " 5   Join_Date   5 non-null      object\n",
      "dtypes: int64(3), object(3)\n",
      "memory usage: 372.0+ bytes\n"
     ]
    }
   ],
   "source": [
    "df.info()"
   ]
  },
  {
   "cell_type": "code",
   "execution_count": 81,
   "id": "b042cfc4-31ef-4068-98bf-93e910fc10a2",
   "metadata": {},
   "outputs": [
    {
     "data": {
      "text/plain": [
       "ID                                                           15\n",
       "Name                                   AhmedSaraKhalidLailaOmar\n",
       "Age                                                         140\n",
       "Department                               ITHRFinanceMarketingIT\n",
       "Salary                                                    38200\n",
       "Join_Date     2020-06-152019-08-222018-11-012021-02-102017-0...\n",
       "dtype: object"
      ]
     },
     "execution_count": 81,
     "metadata": {},
     "output_type": "execute_result"
    }
   ],
   "source": [
    "df.sum()"
   ]
  },
  {
   "cell_type": "code",
   "execution_count": 87,
   "id": "d4eef61e-86d1-4967-9d26-3b7f737034a1",
   "metadata": {},
   "outputs": [
    {
     "data": {
      "text/plain": [
       "ID                                                           15\n",
       "Name                                   AhmedSaraKhalidLailaOmar\n",
       "Age                                                         140\n",
       "Department                               ITHRFinanceMarketingIT\n",
       "Salary                                                    38200\n",
       "Join_Date     2020-06-152019-08-222018-11-012021-02-102017-0...\n",
       "dtype: object"
      ]
     },
     "execution_count": 87,
     "metadata": {},
     "output_type": "execute_result"
    }
   ],
   "source": [
    "df.agg('sum')"
   ]
  },
  {
   "cell_type": "code",
   "execution_count": 126,
   "id": "555c8bce-326c-4756-b807-b3292eb3f402",
   "metadata": {},
   "outputs": [],
   "source": [
    "a1=df.groupby(['Name','Age'])"
   ]
  },
  {
   "cell_type": "code",
   "execution_count": 128,
   "id": "87ff7632-6217-4310-86c6-84e4bfd4426f",
   "metadata": {},
   "outputs": [
    {
     "data": {
      "text/html": [
       "<div>\n",
       "<style scoped>\n",
       "    .dataframe tbody tr th:only-of-type {\n",
       "        vertical-align: middle;\n",
       "    }\n",
       "\n",
       "    .dataframe tbody tr th {\n",
       "        vertical-align: top;\n",
       "    }\n",
       "\n",
       "    .dataframe thead th {\n",
       "        text-align: right;\n",
       "    }\n",
       "</style>\n",
       "<table border=\"1\" class=\"dataframe\">\n",
       "  <thead>\n",
       "    <tr style=\"text-align: right;\">\n",
       "      <th></th>\n",
       "      <th></th>\n",
       "      <th>ID</th>\n",
       "      <th>Department</th>\n",
       "      <th>Salary</th>\n",
       "      <th>Join_Date</th>\n",
       "    </tr>\n",
       "    <tr>\n",
       "      <th>Name</th>\n",
       "      <th>Age</th>\n",
       "      <th></th>\n",
       "      <th></th>\n",
       "      <th></th>\n",
       "      <th></th>\n",
       "    </tr>\n",
       "  </thead>\n",
       "  <tbody>\n",
       "    <tr>\n",
       "      <th>Ahmed</th>\n",
       "      <th>25</th>\n",
       "      <td>1</td>\n",
       "      <td>IT</td>\n",
       "      <td>7000</td>\n",
       "      <td>2020-06-15</td>\n",
       "    </tr>\n",
       "    <tr>\n",
       "      <th>Khalid</th>\n",
       "      <th>28</th>\n",
       "      <td>3</td>\n",
       "      <td>Finance</td>\n",
       "      <td>9000</td>\n",
       "      <td>2018-11-01</td>\n",
       "    </tr>\n",
       "    <tr>\n",
       "      <th>Laila</th>\n",
       "      <th>22</th>\n",
       "      <td>4</td>\n",
       "      <td>Marketing</td>\n",
       "      <td>6500</td>\n",
       "      <td>2021-02-10</td>\n",
       "    </tr>\n",
       "    <tr>\n",
       "      <th>Omar</th>\n",
       "      <th>35</th>\n",
       "      <td>5</td>\n",
       "      <td>IT</td>\n",
       "      <td>7200</td>\n",
       "      <td>2017-05-30</td>\n",
       "    </tr>\n",
       "    <tr>\n",
       "      <th>Sara</th>\n",
       "      <th>30</th>\n",
       "      <td>2</td>\n",
       "      <td>HR</td>\n",
       "      <td>8500</td>\n",
       "      <td>2019-08-22</td>\n",
       "    </tr>\n",
       "  </tbody>\n",
       "</table>\n",
       "</div>"
      ],
      "text/plain": [
       "            ID Department  Salary   Join_Date\n",
       "Name   Age                                   \n",
       "Ahmed  25    1         IT    7000  2020-06-15\n",
       "Khalid 28    3    Finance    9000  2018-11-01\n",
       "Laila  22    4  Marketing    6500  2021-02-10\n",
       "Omar   35    5         IT    7200  2017-05-30\n",
       "Sara   30    2         HR    8500  2019-08-22"
      ]
     },
     "execution_count": 128,
     "metadata": {},
     "output_type": "execute_result"
    }
   ],
   "source": [
    "a1"
   ]
  },
  {
   "cell_type": "code",
   "execution_count": 137,
   "id": "1fb59725-752e-419d-ad4e-115d9f045c46",
   "metadata": {},
   "outputs": [
    {
     "data": {
      "text/plain": [
       "<Axes: xlabel='Name,Age'>"
      ]
     },
     "execution_count": 137,
     "metadata": {},
     "output_type": "execute_result"
    },
    {
     "data": {
      "image/png": "[encoded data removed]",
      "text/plain": [
       "<Figure size 640x480 with 1 Axes>"
      ]
     },
     "metadata": {},
     "output_type": "display_data"
    }
   ],
   "source": [
    "a1.plot(kind ='bar')"
   ]
  },
  {
   "cell_type": "code",
   "execution_count": 3,
   "id": "19fe1daa-69ff-4e83-af56-870f7e09178e",
   "metadata": {},
   "outputs": [
    {
     "name": "stdin",
     "output_type": "stream",
     "text": [
      "a a\n",
      "b 1\n"
     ]
    },
    {
     "name": "stdout",
     "output_type": "stream",
     "text": [
      "nameaage1\n"
     ]
    }
   ],
   "source": [
    "a=(input('a'))\n",
    "b=(input('b'))\n",
    "print(f'name {a}age{b}')"
   ]
  },
  {
   "cell_type": "code",
   "execution_count": null,
   "id": "629a77df-0cf3-45b6-9dde-93b68ffcadd7",
   "metadata": {},
   "outputs": [],
   "source": []
  }
 ],
 "metadata": {
  "kernelspec": {
   "display_name": "Python [conda env:base] *",
   "language": "python",
   "name": "conda-base-py"
  },
  "language_info": {
   "codemirror_mode": {
    "name": "ipython",
    "version": 3
   },
   "file_extension": ".py",
   "mimetype": "text/x-python",
   "name": "python",
   "nbconvert_exporter": "python",
   "pygments_lexer": "ipython3",
   "version": "3.12.7"
  }
 },
 "nbformat": 4,
 "nbformat_minor": 5
}
